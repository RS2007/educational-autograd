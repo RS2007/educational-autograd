{
 "cells": [
  {
   "cell_type": "code",
   "execution_count": 10,
   "metadata": {},
   "outputs": [],
   "source": [
    "import nn\n",
    "import numpy as np\n",
    "from torchvision import datasets\n",
    "import torchvision.transforms as transforms\n",
    "from tqdm import tqdm\n",
    "from tensor.tensor import Tensor\n",
    "from nn.optim import SGD\n",
    "import matplotlib.pyplot as plt"
   ]
  },
  {
   "cell_type": "code",
   "execution_count": 2,
   "metadata": {},
   "outputs": [],
   "source": [
    "def log_softmax(x):\n",
    "    y = x - x.max()\n",
    "    return y - y.exp().sum().log()\n",
    "\n",
    "\n",
    "def cross_entropy_loss(x, y):\n",
    "    return (-log_softmax(x) * y).sum()\n"
   ]
  },
  {
   "cell_type": "code",
   "execution_count": 3,
   "metadata": {},
   "outputs": [],
   "source": [
    "class MyMNISTNet(nn.Module):\n",
    "    def __init__(self):\n",
    "        self.layer1 = nn.Linear2(28 * 28, 512)\n",
    "        self.layer2 = nn.Linear2(512, 512)\n",
    "        self.layer3 = nn.Linear2(512, 10)\n",
    "\n",
    "    def forward(self, x):\n",
    "        x.data = x.data.reshape(-1,28*28)\n",
    "        x = self.layer1(x).relu()\n",
    "        #print(\"After layer 1: \",x.data)\n",
    "        x = self.layer2(x).relu()\n",
    "        x = self.layer3(x)\n",
    "        return x\n",
    "    def parameters(self):\n",
    "        return np.hstack([self.layer1.parameters(),self.layer2.parameters(),self.layer3.parameters()])"
   ]
  },
  {
   "cell_type": "code",
   "execution_count": 9,
   "metadata": {},
   "outputs": [
    {
     "name": "stderr",
     "output_type": "stream",
     "text": [
      "  5%|▌         | 1/20 [00:11<03:43, 11.79s/it]"
     ]
    },
    {
     "name": "stdout",
     "output_type": "stream",
     "text": [
      "Epoch: 0 \tTraining Loss: 0.17649470269680023\n"
     ]
    },
    {
     "name": "stderr",
     "output_type": "stream",
     "text": [
      " 10%|█         | 2/20 [00:23<03:28, 11.59s/it]"
     ]
    },
    {
     "name": "stdout",
     "output_type": "stream",
     "text": [
      "Epoch: 1 \tTraining Loss: 0.1722376048564911\n"
     ]
    },
    {
     "name": "stderr",
     "output_type": "stream",
     "text": [
      " 15%|█▌        | 3/20 [00:34<03:16, 11.57s/it]"
     ]
    },
    {
     "name": "stdout",
     "output_type": "stream",
     "text": [
      "Epoch: 2 \tTraining Loss: 0.15997515618801117\n"
     ]
    },
    {
     "name": "stderr",
     "output_type": "stream",
     "text": [
      " 20%|██        | 4/20 [00:46<03:07, 11.70s/it]"
     ]
    },
    {
     "name": "stdout",
     "output_type": "stream",
     "text": [
      "Epoch: 3 \tTraining Loss: 0.13192979991436005\n"
     ]
    },
    {
     "name": "stderr",
     "output_type": "stream",
     "text": [
      " 25%|██▌       | 5/20 [00:58<02:56, 11.77s/it]"
     ]
    },
    {
     "name": "stdout",
     "output_type": "stream",
     "text": [
      "Epoch: 4 \tTraining Loss: 0.12137287855148315\n"
     ]
    },
    {
     "name": "stderr",
     "output_type": "stream",
     "text": [
      " 30%|███       | 6/20 [01:10<02:47, 11.95s/it]"
     ]
    },
    {
     "name": "stdout",
     "output_type": "stream",
     "text": [
      "Epoch: 5 \tTraining Loss: 0.11784330010414124\n"
     ]
    },
    {
     "name": "stderr",
     "output_type": "stream",
     "text": [
      " 35%|███▌      | 7/20 [01:23<02:37, 12.08s/it]"
     ]
    },
    {
     "name": "stdout",
     "output_type": "stream",
     "text": [
      "Epoch: 6 \tTraining Loss: 0.11564641445875168\n"
     ]
    },
    {
     "name": "stderr",
     "output_type": "stream",
     "text": [
      " 40%|████      | 8/20 [01:35<02:25, 12.11s/it]"
     ]
    },
    {
     "name": "stdout",
     "output_type": "stream",
     "text": [
      "Epoch: 7 \tTraining Loss: 0.1139993742108345\n"
     ]
    },
    {
     "name": "stderr",
     "output_type": "stream",
     "text": [
      " 45%|████▌     | 9/20 [01:47<02:12, 12.08s/it]"
     ]
    },
    {
     "name": "stdout",
     "output_type": "stream",
     "text": [
      "Epoch: 8 \tTraining Loss: 0.11293067783117294\n"
     ]
    },
    {
     "name": "stderr",
     "output_type": "stream",
     "text": [
      " 50%|█████     | 10/20 [01:59<02:00, 12.03s/it]"
     ]
    },
    {
     "name": "stdout",
     "output_type": "stream",
     "text": [
      "Epoch: 9 \tTraining Loss: 0.11206851899623871\n"
     ]
    },
    {
     "name": "stderr",
     "output_type": "stream",
     "text": [
      " 55%|█████▌    | 11/20 [02:11<01:48, 12.02s/it]"
     ]
    },
    {
     "name": "stdout",
     "output_type": "stream",
     "text": [
      "Epoch: 10 \tTraining Loss: 0.11132684350013733\n"
     ]
    },
    {
     "name": "stderr",
     "output_type": "stream",
     "text": [
      " 60%|██████    | 12/20 [02:23<01:36, 12.03s/it]"
     ]
    },
    {
     "name": "stdout",
     "output_type": "stream",
     "text": [
      "Epoch: 11 \tTraining Loss: 0.110770083963871\n"
     ]
    },
    {
     "name": "stderr",
     "output_type": "stream",
     "text": [
      " 65%|██████▌   | 13/20 [02:35<01:24, 12.00s/it]"
     ]
    },
    {
     "name": "stdout",
     "output_type": "stream",
     "text": [
      "Epoch: 12 \tTraining Loss: 0.1103709489107132\n"
     ]
    },
    {
     "name": "stderr",
     "output_type": "stream",
     "text": [
      " 70%|███████   | 14/20 [02:47<01:11, 11.98s/it]"
     ]
    },
    {
     "name": "stdout",
     "output_type": "stream",
     "text": [
      "Epoch: 13 \tTraining Loss: 0.10992290079593658\n"
     ]
    },
    {
     "name": "stderr",
     "output_type": "stream",
     "text": [
      " 75%|███████▌  | 15/20 [02:59<00:59, 12.00s/it]"
     ]
    },
    {
     "name": "stdout",
     "output_type": "stream",
     "text": [
      "Epoch: 14 \tTraining Loss: 0.10968145728111267\n"
     ]
    },
    {
     "name": "stderr",
     "output_type": "stream",
     "text": [
      " 80%|████████  | 16/20 [03:11<00:47, 11.99s/it]"
     ]
    },
    {
     "name": "stdout",
     "output_type": "stream",
     "text": [
      "Epoch: 15 \tTraining Loss: 0.10940741002559662\n"
     ]
    },
    {
     "name": "stderr",
     "output_type": "stream",
     "text": [
      " 85%|████████▌ | 17/20 [03:23<00:36, 12.06s/it]"
     ]
    },
    {
     "name": "stdout",
     "output_type": "stream",
     "text": [
      "Epoch: 16 \tTraining Loss: 0.10926482826471329\n"
     ]
    },
    {
     "name": "stderr",
     "output_type": "stream",
     "text": [
      " 90%|█████████ | 18/20 [03:35<00:23, 12.00s/it]"
     ]
    },
    {
     "name": "stdout",
     "output_type": "stream",
     "text": [
      "Epoch: 17 \tTraining Loss: 0.10912215709686279\n"
     ]
    },
    {
     "name": "stderr",
     "output_type": "stream",
     "text": [
      " 95%|█████████▌| 19/20 [03:47<00:11, 11.98s/it]"
     ]
    },
    {
     "name": "stdout",
     "output_type": "stream",
     "text": [
      "Epoch: 18 \tTraining Loss: 0.10898548364639282\n"
     ]
    },
    {
     "name": "stderr",
     "output_type": "stream",
     "text": [
      "100%|██████████| 20/20 [03:59<00:00, 11.97s/it]"
     ]
    },
    {
     "name": "stdout",
     "output_type": "stream",
     "text": [
      "Epoch: 19 \tTraining Loss: 0.10889505594968796\n"
     ]
    },
    {
     "name": "stderr",
     "output_type": "stream",
     "text": [
      "\n"
     ]
    },
    {
     "data": {
      "image/png": "[encoded data removed]",
      "text/plain": [
       "<Figure size 640x480 with 1 Axes>"
      ]
     },
     "metadata": {},
     "output_type": "display_data"
    },
    {
     "name": "stdout",
     "output_type": "stream",
     "text": [
      "Accuracy: 0.8574833333333334\n"
     ]
    }
   ],
   "source": [
    "def get_randomized_batch(inputs,results,batch_size):\n",
    "    randomized_indices = list(range(0, len(inputs), batch_size))\n",
    "    np.random.shuffle(randomized_indices)\n",
    "    for i in randomized_indices:\n",
    "        yield inputs[i : i + batch_size], results[i : i + batch_size]\n",
    "\n",
    "\n",
    "def torch_mine(test_loader, train_loader):\n",
    "    model = MyMNISTNet()\n",
    "    epochs = 20\n",
    "    optim = SGD(model.parameters(),lr=0.005)\n",
    "    losses = [0 for _ in range(epochs)]\n",
    "\n",
    "    for i in tqdm(range(epochs)):\n",
    "        train_loss = Tensor([0.0])\n",
    "        inputs,results = train_loader.data.numpy(),train_loader.targets.numpy()\n",
    "        dataiter = get_randomized_batch(inputs,results,32)\n",
    "        for indx,(data, target) in enumerate(dataiter):\n",
    "            data = Tensor(data.tolist())\n",
    "            target = Tensor(target.tolist())\n",
    "            optim.zero_grad()\n",
    "            output = model(data)\n",
    "            one_hot_target = np.array([np.eye(10)[int(target_elem)-1] for target_elem in target.data])\n",
    "            loss = cross_entropy_loss(output,Tensor(one_hot_target)).sum() / output.data.shape[0]\n",
    "            loss.backward()\n",
    "            optim.step_tensor()\n",
    "            train_loss += loss.sum().data[0]\n",
    "\n",
    "        train_loss = train_loss / inputs.shape[0]\n",
    "        losses[i] = train_loss.data[0]\n",
    "\n",
    "        print(f\"Epoch: {i} \\tTraining Loss: {train_loss.data[0]}\")\n",
    "\n",
    "    plt.plot(range(1,epochs+1),losses)\n",
    "    plt.show()\n",
    "\n",
    "    test_inputs,test_results = test_loader.data.numpy(),test_loader.targets.numpy()\n",
    "    true_cases = 0\n",
    "    for (input,output) in zip(test_inputs,test_results):\n",
    "        # use batching to make this faster\n",
    "        input = Tensor(input.tolist())\n",
    "        output = Tensor(output.tolist())\n",
    "        model_out = model(input)\n",
    "        if (np.argmax(model_out.data)+1) == output.data[0]:\n",
    "            true_cases += 1\n",
    "    print(f\"Accuracy: {true_cases/len(test_inputs)}\")\n",
    "\n",
    "\n",
    "\n",
    "\n",
    "\n",
    "\n",
    "transform = transforms.ToTensor()\n",
    "train_data = datasets.MNIST(\n",
    "    root=\"data\", train=True, download=True, transform=transform\n",
    ")\n",
    "test_data = datasets.MNIST(\n",
    "    root=\"data\", train=False, download=True, transform=transform\n",
    ")\n",
    "torch_mine(train_data, test_data)"
   ]
  },
  {
   "cell_type": "code",
   "execution_count": null,
   "metadata": {},
   "outputs": [],
   "source": []
  }
 ],
 "metadata": {
  "kernelspec": {
   "display_name": "Python 3",
   "language": "python",
   "name": "python3"
  },
  "language_info": {
   "codemirror_mode": {
    "name": "ipython",
    "version": 3
   },
   "file_extension": ".py",
   "mimetype": "text/x-python",
   "name": "python",
   "nbconvert_exporter": "python",
   "pygments_lexer": "ipython3",
   "version": "3.8.10"
  }
 },
 "nbformat": 4,
 "nbformat_minor": 2
}
